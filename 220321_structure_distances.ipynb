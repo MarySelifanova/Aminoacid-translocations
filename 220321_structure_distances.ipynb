{
  "nbformat": 4,
  "nbformat_minor": 0,
  "metadata": {
    "colab": {
      "name": "220321_structure_distances.ipynb",
      "provenance": [],
      "collapsed_sections": [],
      "authorship_tag": "ABX9TyOphWT+Lov/Gb4xnR7LTiLG",
      "include_colab_link": true
    },
    "kernelspec": {
      "name": "python3",
      "display_name": "Python 3"
    },
    "language_info": {
      "name": "python"
    }
  },
  "cells": [
    {
      "cell_type": "markdown",
      "metadata": {
        "id": "view-in-github",
        "colab_type": "text"
      },
      "source": [
        "<a href=\"https://colab.research.google.com/github/MarySelifanova/Aminoacid-translocations/blob/main/220321_structure_distances.ipynb\" target=\"_parent\"><img src=\"https://colab.research.google.com/assets/colab-badge.svg\" alt=\"Open In Colab\"/></a>"
      ]
    },
    {
      "cell_type": "code",
      "metadata": {
        "colab": {
          "base_uri": "https://localhost:8080/"
        },
        "id": "HWyRlMMApq6d",
        "outputId": "07284045-b01b-4ca0-d152-d98abbbed357"
      },
      "source": [
        "from google.colab import drive\n",
        "drive.mount('/content/drive')"
      ],
      "execution_count": 1,
      "outputs": [
        {
          "output_type": "stream",
          "text": [
            "Mounted at /content/drive\n"
          ],
          "name": "stdout"
        }
      ]
    },
    {
      "cell_type": "markdown",
      "metadata": {
        "id": "JGVkjH6Fp6Um"
      },
      "source": [
        "### **Install and import modules**"
      ]
    },
    {
      "cell_type": "code",
      "metadata": {
        "id": "bLK0Dj5mp5ri"
      },
      "source": [
        "!pip install bio\n",
        "!pip install XlsxWriter\n",
        "from Bio import SeqIO\n",
        "from itertools import combinations\n",
        "import numpy as np\n",
        "import re\n",
        "import pandas as pd\n",
        "import xlsxwriter"
      ],
      "execution_count": null,
      "outputs": []
    },
    {
      "cell_type": "markdown",
      "metadata": {
        "id": "VysEqeHKrbL6"
      },
      "source": [
        "### **Create a sequence-alignment dictionary**"
      ]
    },
    {
      "cell_type": "code",
      "metadata": {
        "id": "swtbM3SFq07X"
      },
      "source": [
        "#6uyn\n",
        "seq_al_6uyn = 'MKANLLV--LLCALAA--------ADADKICIGYHANNSTDTVDTVLEKNVTVTHSVNLLENKHNGKLCKLRGVAPLHL---GKCNIAGWLLGNPECESLATASSWSYIVETSSSNNGTCYPGDFINYEELREQLSSVSSFEKFEIFPKTS-SWPNHETNKGVTAACPHAGTNSFYKNLIWLVKKENSYPKINISYTNNRGKEVLVLWAIHHPPTSTDQQSLYQNANSYVFVGSSRYSRKFEPEIATRPKVRGQAGRMNYYWTLVEPGDKITFEATGNLVVPRYAFALKRNSGSGIIISETPVHDCDTTCQTPNGAINTSLPFQNIHPVTIGECPKYVKSTKLRMATGLRNIPSIQSRGLFGAIAGFIEGGWTGMIDGWYGYHHQNEQGSGYAADLKSTQNAIDGITNKVNSVIEKMNTQFTAVGKEFSHLERRIENLNKKVDDGFIDIWTYNAELLVLLENERTLDYHDSNVKTLYEKVRSQLKNNAKEIGNGCFEFYHKCDDTCMESVKNGTYDYPKYSEEAKLNREEIDGIKLESTRIYQILAIYSTVASSLVLLVSLGAISFWMCSNGSLQCRICI'\n",
        "seq_6uyn = 'MKANLLVLLCALAAADADKICIGYHANNSTDTVDTVLEKNVTVTHSVNLLENKHNGKLCKLRGVAPLHLGKCNIAGWLLGNPECESLATASSWSYIVETSSSNNGTCYPGDFINYEELREQLSSVSSFEKFEIFPKTSSWPNHETNKGVTAACPHAGTNSFYKNLIWLVKKENSYPKINISYTNNRGKEVLVLWAIHHPPTSTDQQSLYQNANSYVFVGSSRYSRKFEPEIATRPKVRGQAGRMNYYWTLVEPGDKITFEATGNLVVPRYAFALKRNSGSGIIISETPVHDCDTTCQTPNGAINTSLPFQNIHPVTIGECPKYVKSTKLRMATGLRNIPSIQSRGLFGAIAGFIEGGWTGMIDGWYGYHHQNEQGSGYAADLKSTQNAIDGITNKVNSVIEKMNTQFTAVGKEFSHLERRIENLNKKVDDGFIDIWTYNAELLVLLENERTLDYHDSNVKTLYEKVRSQLKNNAKEIGNGCFEFYHKCDDTCMESVKNGTYDYPKYSEEAKLNREEIDGIKLESTRIYQILAIYSTVASSLVLLVSLGAISFWMCSNGSLQCRICI'"
      ],
      "execution_count": 24,
      "outputs": []
    },
    {
      "cell_type": "code",
      "metadata": {
        "id": "03C4WtiTrMrQ"
      },
      "source": [
        "#4we8\n",
        "seq_al_4we8 = '-----------ADLGSQKLPGND-NSTATLCLGHHAVPNGTIVKTITNDQIEVTNATELVQNSSIGEICD----SPHQILDGENCTLIDALLGDPQCDG-FQNKKWDLFVERSKAYS-NCYPYDVPDYASLRSLVASSGTLE----FNNESFNWTGVTQN-GTSSACIRRSNNSFFSRLNWLTHLNFKYPALNVTMPNNEQFDKLYIWGVHHPGTDKDQIFLYAQSSGRITVSTKRSQQAVIPNIGSRPRIRNIPSRISIYWTIVKPGDILLINSTGNLIAPRGYFKIRSG-KSSIMRSDAPIGKCNSECITPNGSIPNDKPFQNVNRITYGACPRYVKQSTLKLATGMRNVPEKQTRGIFGAIAGFIENGWEGMVDGWYGFRHQNSEGRGQAADLKSTQAAIDQINGKLNRLIGKTNEKFHQIEKEFSEVEGRIQDLEKYVEDTKIDLWSYNAELLVALENQHTIDLTDSEMNKLFEKTKKQLRENAEDMGNGCFKIYHKCDNACIGSIRNGTYDHDVYRDEALNNRFQIKSGRLVPR-----------------------------------------'\n",
        "seq_4we8 = 'ADLGSQKLPGNDNSTATLCLGHHAVPNGTIVKTITNDQIEVTNATELVQNSSIGEICDSPHQILDGENCTLIDALLGDPQCDGFQNKKWDLFVERSKAYSNCYPYDVPDYASLRSLVASSGTLEFNNESFNWTGVTQNGTSSACIRRSNNSFFSRLNWLTHLNFKYPALNVTMPNNEQFDKLYIWGVHHPGTDKDQIFLYAQSSGRITVSTKRSQQAVIPNIGSRPRIRNIPSRISIYWTIVKPGDILLINSTGNLIAPRGYFKIRSGKSSIMRSDAPIGKCNSECITPNGSIPNDKPFQNVNRITYGACPRYVKQSTLKLATGMRNVPEKQTRGIFGAIAGFIENGWEGMVDGWYGFRHQNSEGRGQAADLKSTQAAIDQINGKLNRLIGKTNEKFHQIEKEFSEVEGRIQDLEKYVEDTKIDLWSYNAELLVALENQHTIDLTDSEMNKLFEKTKKQLRENAEDMGNGCFKIYHKCDNACIGSIRNGTYDHDVYRDEALNNRFQIKSGRLVPR'"
      ],
      "execution_count": 4,
      "outputs": []
    },
    {
      "cell_type": "code",
      "metadata": {
        "id": "g7IZuSs5a-Uj"
      },
      "source": [
        "#6mym\n",
        "seq_al_6mym = '------------------------NSTATLCLGHHAVPNGTLVKTITNDQIEVTNATELVQSSSTGRICD----SPHRILDGKNCTLIDALLGDPHCDG-FQNEKWDLFVERSKAFS-NCYPYDVPDYASLRSLVASSGTLE----FINEGFNWTGVTQS-GGSYTCKRGSNNSFFSRLNWLYESESKYPVLNVTMPNNGKFDKLYIWGIHHPSTDKEQTNLYIRASGRVTVSTKRSQQTVIPNIGSRPWVRGLSSRISIYWTIVKPGDILLINSTGNLIAPRGYFKIRTG-KSSIMRSDAPIGTCSSECITPNGSIPNDKPFQNVNKITYGACPRYVKQNTLKLATGMRNVPEKQTRGIFGAIAGFIENGWEGMVDGWYGFRHQNSEGTGQAADLKSTQAAIDQINGKLNRVIEKTNEKFHQIEKEFSEVEGRIQDLEKYVEDTKIDLWSYNAELLVALENQHTIDLTDSEMNKLFEKTRKQLRENAEDMGNGCFKIYHKCDNACIGSIRNGTYDHDVYRDEALNNRFQIKG-----------------------------------------------'\n",
        "seq_6mym = 'NSTATLCLGHHAVPNGTLVKTITNDQIEVTNATELVQSSSTGRICDSPHRILDGKNCTLIDALLGDPHCDGFQNEKWDLFVERSKAFSNCYPYDVPDYASLRSLVASSGTLEFINEGFNWTGVTQSGGSYTCKRGSNNSFFSRLNWLYESESKYPVLNVTMPNNGKFDKLYIWGIHHPSTDKEQTNLYIRASGRVTVSTKRSQQTVIPNIGSRPWVRGLSSRISIYWTIVKPGDILLINSTGNLIAPRGYFKIRTGKSSIMRSDAPIGTCSSECITPNGSIPNDKPFQNVNKITYGACPRYVKQNTLKLATGMRNVPEKQTRGIFGAIAGFIENGWEGMVDGWYGFRHQNSEGTGQAADLKSTQAAIDQINGKLNRVIEKTNEKFHQIEKEFSEVEGRIQDLEKYVEDTKIDLWSYNAELLVALENQHTIDLTDSEMNKLFEKTRKQLRENAEDMGNGCFKIYHKCDNACIGSIRNGTYDHDVYRDEALNNRFQIKG'"
      ],
      "execution_count": 5,
      "outputs": []
    },
    {
      "cell_type": "code",
      "metadata": {
        "id": "fwOO0MbgbcBn"
      },
      "source": [
        "#6osr\n",
        "seq_al_6osr = '-------------------------GSDTICIGYHANNSTDTVDTVLEKNVTVTHSVNLLEDSHNGKLCRLKGIAPLQL---GKCNIAGWILGNPECDSLLPASSWSYIVETPNSKNGICYPGDFIDYEELREQLSSVSSFERFEIFPKES-SWPKHSTTKGVTAACSHAGKSSFYRNLLWLTKKEDSYPKLSNSYVNKKGKEVLVLWGVHHPSSSKEQQTLYQNENAYVSVVSSNYNRRFIPEIAERPEVKDQAGRINYYWTLLEPGDTIIFEANGNLVAPWYAFALSRGFGSGIITSNASMHECNTKCQTPQGAINSSLPFQNIHPVTIGECPKYVKSAKLRMVTGLRNIPSIQSRGLFGAIAGFIEGGWTGMIDGWYGYHHQNEQGSGYAADQKSTQNAINGITNKVNSVIEKMNTQFTAVGKEFNNLEKRMENLNKKVDDGFLDIWTYNAELLVLLENERTLDFHDSNVKNLYEKVKIQLKNNAKEIGNGCFEFYHKCDNECMESVRNGTYDYPKYSKEFLVPRGSPGSGYIPEAPRDGQAYV--RKDGEWVLLSTFLGHHHHHH-----------'\n",
        "seq_6osr = 'GSDTICIGYHANNSTDTVDTVLEKNVTVTHSVNLLEDSHNGKLCRLKGIAPLQLGKCNIAGWILGNPECDSLLPASSWSYIVETPNSKNGICYPGDFIDYEELREQLSSVSSFERFEIFPKESSWPKHSTTKGVTAACSHAGKSSFYRNLLWLTKKEDSYPKLSNSYVNKKGKEVLVLWGVHHPSSSKEQQTLYQNENAYVSVVSSNYNRRFIPEIAERPEVKDQAGRINYYWTLLEPGDTIIFEANGNLVAPWYAFALSRGFGSGIITSNASMHECNTKCQTPQGAINSSLPFQNIHPVTIGECPKYVKSAKLRMVTGLRNIPSIQSRGLFGAIAGFIEGGWTGMIDGWYGYHHQNEQGSGYAADQKSTQNAINGITNKVNSVIEKMNTQFTAVGKEFNNLEKRMENLNKKVDDGFLDIWTYNAELLVLLENERTLDFHDSNVKNLYEKVKIQLKNNAKEIGNGCFEFYHKCDNECMESVRNGTYDYPKYSKEFLVPRGSPGSGYIPEAPRDGQAYVRKDGEWVLLSTFLGHHHHHH'"
      ],
      "execution_count": 6,
      "outputs": []
    },
    {
      "cell_type": "code",
      "metadata": {
        "colab": {
          "base_uri": "https://localhost:8080/"
        },
        "id": "H-XSDceQILC_",
        "outputId": "40239dc3-3f32-4d07-8328-0c25e69889d3"
      },
      "source": [
        "len(seq_4we8)"
      ],
      "execution_count": 9,
      "outputs": [
        {
          "output_type": "execute_result",
          "data": {
            "text/plain": [
              "515"
            ]
          },
          "metadata": {
            "tags": []
          },
          "execution_count": 9
        }
      ]
    },
    {
      "cell_type": "code",
      "metadata": {
        "id": "gAc0Qus3rZgz"
      },
      "source": [
        "#function for creation of dictionary with alignment – sequence positions\n",
        "def create_align_dict(seq_al, seq): #seq_al – string of alignmnet (with gaps), seq – string of sequence (without gaps)\n",
        "\n",
        "    align_dict = {} #create an empy dictionary\n",
        "    c = 0 #counter for seq position\n",
        "\n",
        "    for i in range(len(seq_al)): #iterate through alignmnet positions\n",
        "      \n",
        "      #print(seq_al[i])\n",
        "\n",
        "      if seq_al[i] == '-': #if we face a gap\n",
        "\n",
        "        pos = 'no' #there is no aminoacids in normal sequence \n",
        "        pos_al = i + 1 #position in the alignment is i + 1 ('cause first position is 1)\n",
        "        \n",
        "      else: #if we face an aminoacid\n",
        "\n",
        "        pos_al = i + 1  #position in the alignment is i + 1 ('cause first position is 1)\n",
        "        pos = c + 1 #position in the sequencse is counter + 1 ('cause first position is 1)\n",
        "        c += 1 #we improve counter ('cause there is no gap)\n",
        "        \n",
        "      align_dict[pos_al] = pos #append new key-value pair\n",
        "\n",
        "    return align_dict  #return the dictionary  "
      ],
      "execution_count": 20,
      "outputs": []
    },
    {
      "cell_type": "code",
      "metadata": {
        "id": "Zl7lMcpjZsop"
      },
      "source": [
        "#create align_seq dictionaries for my pdb structures\n",
        "a_d_6uyn = create_align_dict(seq_al_6uyn, seq_6uyn)\n",
        "a_d_4we8 = create_align_dict(seq_al_4we8, seq_4we8)\n",
        "a_d_6mym = create_align_dict(seq_al_6mym, seq_6mym)\n",
        "a_d_6osr = create_align_dict(seq_al_6osr, seq_6osr)"
      ],
      "execution_count": 25,
      "outputs": []
    },
    {
      "cell_type": "markdown",
      "metadata": {
        "id": "ru_LoW2b7CWt"
      },
      "source": [
        "### **Create a position_position distance dictionary**"
      ]
    },
    {
      "cell_type": "code",
      "metadata": {
        "id": "aOSTwwdWHlVe"
      },
      "source": [
        "#import PDB parsing package\n",
        "from Bio.PDB import PDBParser"
      ],
      "execution_count": 27,
      "outputs": []
    },
    {
      "cell_type": "code",
      "metadata": {
        "id": "O-iL_mv77BtV"
      },
      "source": [
        "#import .pdb structures from drive an save them as struc_n\n",
        "parser = PDBParser()\n",
        "struc_6uyn = parser.get_structure(\"s_6uyn\", \"/content/drive/MyDrive/Translocations/6uyn.pdb\")\n",
        "struc_4we8 = parser.get_structure(\"s_4we8\", \"/content/drive/MyDrive/Translocations/4we8.pdb\")\n",
        "struc_6mym = parser.get_structure(\"s_6mym\", \"/content/drive/MyDrive/Translocations/6mym.pdb\")\n",
        "struc_6osr = parser.get_structure(\"s_6osr\", \"/content/drive/MyDrive/Translocations/6osr.pdb\")"
      ],
      "execution_count": null,
      "outputs": []
    },
    {
      "cell_type": "code",
      "metadata": {
        "id": "t7YVx3yumroZ"
      },
      "source": [
        "#create chain_id_lists for structures\n",
        "chains_6uyn = ['A', 'B']\n",
        "chains_4we8 = ['A', 'B']\n",
        "chains_6mym = ['A', 'B', 'C']\n",
        "chains_6osr = ['A']"
      ],
      "execution_count": 60,
      "outputs": []
    },
    {
      "cell_type": "code",
      "metadata": {
        "id": "zIFHstexNxpF"
      },
      "source": [
        " #function for creation of dictionary with position – position distance\n",
        " def create_dist_dict(structure, ch_list): #structure – loaded pdb file, ch_list – list of chain_ids needed \n",
        "\n",
        "    model = structure[0] #take the first (and only) model, that's not nmr\n",
        "    p_p_dict = {} #create an empty dictionary\n",
        "    r_list = [] #create an empty list for residues\n",
        "\n",
        "    for chain in model: #iterate trough chains of our model\n",
        "      if chain.id in ch_list: #take only needed chains\n",
        "\n",
        "        for r in chain.get_residues(): #iterate trough residues of the chain\n",
        "          r_list.append(r) #add residue to the reside list\n",
        "    \n",
        "    r_list_comb = combinations(r_list, 2) #create all combinations of residues frome the list (pairs)\n",
        "    for pair in r_list_comb: #iterate through pairs\n",
        "\n",
        "      residue1 = pair[0] #first res from the pair\n",
        "      residue2 = pair[1] #second res from the pair\n",
        "      if residue1 != residue2: #not the same res\n",
        "\n",
        "        try: \n",
        "          distance = residue1['CA'] - residue2['CA']   # compute distance between CA atoms\n",
        "          pair_dict = str(residue1.id[1]) + '_' + str(residue2.id[1]) #create a pair\n",
        "          p_p_dict[pair_dict] = distance #append new key-value pair\n",
        "\n",
        "        except KeyError:\n",
        "          continue ## no CA atom, e.g. for H_NAG\n",
        "\n",
        "    return p_p_dict"
      ],
      "execution_count": 79,
      "outputs": []
    },
    {
      "cell_type": "code",
      "metadata": {
        "id": "7TuODUiRzBaO"
      },
      "source": [
        "#create align_seq dictionaries for my pdb structures\n",
        "p_d_6uyn = create_dist_dict(struc_6uyn, chains_6uyn)\n",
        "p_d_4we8 = create_dist_dict(struc_4we8, chains_4we8)\n",
        "p_d_6mym = create_dist_dict(struc_6mym, chains_6mym)\n",
        "p_d_6osr = create_dist_dict(struc_6osr, chains_6osr)"
      ],
      "execution_count": 78,
      "outputs": []
    },
    {
      "cell_type": "markdown",
      "metadata": {
        "id": "1WwyllvZT_sI"
      },
      "source": [
        "### **Add distance metrics**"
      ]
    },
    {
      "cell_type": "code",
      "metadata": {
        "id": "078EQbnwWxfk"
      },
      "source": [
        "#function for pair distance calculation\n",
        "def add_dist(df, a_dict, p_dict, pdb_name): #df – table with kmer (one length) translocations; a_dict – alignment – sequence positions; p_dict – position – position distance;\n",
        "   \n",
        "    dist = [] #create empty list for distances\n",
        "    for index, row in df.iterrows(): #iterate trhough pairs in dataframe\n",
        "      \n",
        "      p1 = int(row['pos1']) #first res from the pair\n",
        "      p2 = int(row['pos2']) #second res from the pair\n",
        "\n",
        "      pair_t = str(a_dict[p1]) + '_' + str(a_dict[p2]) #create a pair from the table (going from alignment to sequence) \n",
        "      try:\n",
        "        distance = p_dict[pair_t] #get the distance in this pair\n",
        "      except KeyError:\n",
        "        #print(pair)\n",
        "        distance = '?' #or we don't know the distance\n",
        "      \n",
        "      #print(distance)\n",
        "      dist.append(distance) #add new distance to the list\n",
        "    \n",
        "    df['distance_' + pdb_name] = dist #add dist column to this table\n",
        "\n",
        "    return df  "
      ],
      "execution_count": 86,
      "outputs": []
    },
    {
      "cell_type": "code",
      "metadata": {
        "id": "ob_9WipPWjj1"
      },
      "source": [
        "#open table to dfs\n",
        "xls = pd.ExcelFile('/content/drive/MyDrive/Translocations/H1N1_H3N2.1557.AA.aligned.1str_dictionary.xlsx')\n",
        "df1 = pd.read_excel(xls, 'len=1')\n",
        "df2 = pd.read_excel(xls, 'len=2')\n",
        "df3 = pd.read_excel(xls, 'len=3')\n",
        "df4 = pd.read_excel(xls, 'len=4')\n",
        "df_list = [df1, df2, df3, df4]"
      ],
      "execution_count": 88,
      "outputs": []
    },
    {
      "cell_type": "code",
      "metadata": {
        "id": "g-MxhL2F34Il"
      },
      "source": [
        "#run add_dist for all structures and kmer_length\n",
        "df_d_list = []\n",
        "for d in df_list:\n",
        "\n",
        "  df_6uyn = add_dist(d, a_d_6uyn, p_d_6uyn, '6uyn')\n",
        "  df_4we8 = add_dist(df_6uyn, a_d_4we8, p_d_4we8, '4we8')\n",
        "  df_6mym = add_dist(df_4we8, a_d_6mym, p_d_6mym, '6mym')\n",
        "  df_d = add_dist(df_6mym, a_d_6osr, p_d_6osr, '6osr')\n",
        "\n",
        "  df_d_list.append(df_d)"
      ],
      "execution_count": 89,
      "outputs": []
    },
    {
      "cell_type": "markdown",
      "metadata": {
        "id": "EmkquuVXiNKD"
      },
      "source": [
        "## **Save tables**"
      ]
    },
    {
      "cell_type": "code",
      "metadata": {
        "id": "IZRJiDoRinZ9"
      },
      "source": [
        "outfile = '/content/drive/MyDrive/Translocations/H1N1_H3N2.1557.AA.aligned.1str_pdb_multiple.xlsx'\n",
        "# Create a Pandas Excel writer using XlsxWriter as the engine\n",
        "writer = pd.ExcelWriter(outfile, engine='xlsxwriter')\n",
        "\n",
        "# Write each dataframe to a different worksheet\n",
        "df_d_list[0].to_excel(writer, sheet_name='len=1')\n",
        "df_d_list[1].to_excel(writer, sheet_name='len=2')\n",
        "df_d_list[2].to_excel(writer, sheet_name='len=3')\n",
        "df_d_list[3].to_excel(writer, sheet_name='len=4')\n",
        "\n",
        "# Close the Pandas Excel writer and output the Excel file\n",
        "writer.save()"
      ],
      "execution_count": 90,
      "outputs": []
    },
    {
      "cell_type": "markdown",
      "metadata": {
        "id": "ydlgQk0SQf_u"
      },
      "source": [
        "## **Test**"
      ]
    },
    {
      "cell_type": "code",
      "metadata": {
        "id": "2sRcStL1HpEj"
      },
      "source": [
        "for model in structure:\n",
        "    for chain in model:\n",
        "      if chain.id == 'A' or chain.id == 'B':\n",
        "        #residues = structure.get_residues()\n",
        "        #print(residues)\n",
        "        print('chain ', chain)\n",
        "        for residue in chain:\n",
        "            x = residue.id\n",
        "            print('residue', x)\n",
        "\n",
        "            #for atom in residue:\n",
        "            #    print(atom)"
      ],
      "execution_count": null,
      "outputs": []
    },
    {
      "cell_type": "code",
      "metadata": {
        "id": "flRnkj2-qBps"
      },
      "source": [
        "r_list_6uyn = []\n",
        "for model in struc_6uyn:\n",
        "    print('mod')\n",
        "    for chain in model:\n",
        "      print(chain.id)\n",
        "      if chain.id == 'A' or chain.id == 'B':\n",
        "        for r in chain.get_residues():\n",
        "          r_list_6uyn.append(r)\n",
        "\n",
        "\n",
        "i = combinations(r_list_6uyn, 2)\n",
        "c = 0\n",
        "for pair in i:\n",
        "  if c < 5:\n",
        "    print(pair[0], pair[1])\n",
        "    c += 1"
      ],
      "execution_count": null,
      "outputs": []
    },
    {
      "cell_type": "code",
      "metadata": {
        "id": "cIUgGbTZNb_R"
      },
      "source": [
        "struc_6mym.header[\"compound\"]"
      ],
      "execution_count": null,
      "outputs": []
    }
  ]
}