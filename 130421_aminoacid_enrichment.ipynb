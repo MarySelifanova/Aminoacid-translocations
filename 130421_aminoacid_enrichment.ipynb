{
  "nbformat": 4,
  "nbformat_minor": 0,
  "metadata": {
    "colab": {
      "name": "130421_aminoacid_enrichment.ipynb",
      "provenance": [],
      "collapsed_sections": [],
      "authorship_tag": "ABX9TyM58DXQs4a3tqMWsqokfqas",
      "include_colab_link": true
    },
    "kernelspec": {
      "name": "python3",
      "display_name": "Python 3"
    },
    "language_info": {
      "name": "python"
    }
  },
  "cells": [
    {
      "cell_type": "markdown",
      "metadata": {
        "id": "view-in-github",
        "colab_type": "text"
      },
      "source": [
        "<a href=\"https://colab.research.google.com/github/MarySelifanova/Aminoacid-translocations/blob/main/130421_aminoacid_enrichment.ipynb\" target=\"_parent\"><img src=\"https://colab.research.google.com/assets/colab-badge.svg\" alt=\"Open In Colab\"/></a>"
      ]
    },
    {
      "cell_type": "markdown",
      "metadata": {
        "id": "7drQaP0rLR0J"
      },
      "source": [
        "## Open tables"
      ]
    },
    {
      "cell_type": "code",
      "metadata": {
        "id": "GJc5RVeZEDK2",
        "colab": {
          "base_uri": "https://localhost:8080/"
        },
        "outputId": "d5c3a208-c6d5-4c1f-f263-feae27af8a48"
      },
      "source": [
        "from google.colab import drive\n",
        "drive.mount('/content/drive')"
      ],
      "execution_count": 2,
      "outputs": [
        {
          "output_type": "stream",
          "text": [
            "Mounted at /content/drive\n"
          ],
          "name": "stdout"
        }
      ]
    },
    {
      "cell_type": "markdown",
      "metadata": {
        "id": "4TNByhDLLmT3"
      },
      "source": [
        "### **Install and import modules**"
      ]
    },
    {
      "cell_type": "code",
      "metadata": {
        "id": "iPjLMRIlLnQX"
      },
      "source": [
        "!pip install bio\n",
        "!pip install XlsxWriter\n",
        "from Bio import SeqIO\n",
        "from itertools import combinations\n",
        "import numpy as np\n",
        "import re\n",
        "import pandas as pd\n",
        "import xlsxwriter"
      ],
      "execution_count": null,
      "outputs": []
    },
    {
      "cell_type": "code",
      "metadata": {
        "id": "B9OJjNFpyzq0"
      },
      "source": [
        "import matplotlib.pyplot as plt"
      ],
      "execution_count": 19,
      "outputs": []
    },
    {
      "cell_type": "code",
      "metadata": {
        "id": "iFA5dWbLLsvA"
      },
      "source": [
        "#define places for final tables\n",
        "all_file = '/content/drive/MyDrive/Translocations/H1N1_H3N2_pdb_multiple_dictionaries.xlsx'\n",
        "all_ev_file = '/content/drive/MyDrive/Translocations/H1N1_H3N2_simulation_2_dictionaries.xlsx'\n",
        "H1N1_file = '/content/drive/MyDrive/Translocations/H1N1_stats_dictionaries.xlsx'\n",
        "H1N1_ev_file = '/content/drive/MyDrive/Translocations/H1N1_evolver_stats_dictionaries.xlsx'\n",
        "H3N2_file = '/content/drive/MyDrive/Translocations/H3N2_stats_dictionaries.xlsx'\n",
        "H3N2_ev_file = '/content/drive/MyDrive/Translocations/H3N2_evolver_stats_dictionaries.xlsx'"
      ],
      "execution_count": 4,
      "outputs": []
    },
    {
      "cell_type": "code",
      "metadata": {
        "id": "pQOpIZshN0pN"
      },
      "source": [
        "#function for opening tables as lists of dataframes \n",
        "\n",
        "def open_tables(path_to_file):\n",
        "\n",
        "  xls = pd.ExcelFile(path_to_file)\n",
        "  df_list = []\n",
        "  df_list.append(pd.read_excel(xls, 'len=1'))\n",
        "  df_list.append(pd.read_excel(xls, 'len=2'))\n",
        "  df_list.append(pd.read_excel(xls, 'len=3'))\n",
        "  df_list.append(pd.read_excel(xls, 'len=4'))\n",
        "\n",
        "  return df_list"
      ],
      "execution_count": 5,
      "outputs": []
    },
    {
      "cell_type": "code",
      "metadata": {
        "id": "4UmpbBNCPFHW"
      },
      "source": [
        "#open all tables as lists of dataframes \n",
        "\n",
        "all_df = open_tables(all_file)\n",
        "all_ev_df = open_tables(all_ev_file)\n",
        "\n",
        "H1N1_df = open_tables(H1N1_file)\n",
        "H1N1_ev_df = open_tables(H1N1_ev_file)\n",
        "\n",
        "H3N2_df = open_tables(H3N2_file)\n",
        "H3N2_ev_df = open_tables(H3N2_ev_file)"
      ],
      "execution_count": 6,
      "outputs": []
    },
    {
      "cell_type": "code",
      "metadata": {
        "colab": {
          "base_uri": "https://localhost:8080/",
          "height": 49
        },
        "id": "PwnvQTJ4PyI-",
        "outputId": "d768e2bf-97fe-430a-8d85-3898cb56285a"
      },
      "source": [
        "H3N2_ev_df[2]"
      ],
      "execution_count": 71,
      "outputs": [
        {
          "output_type": "execute_result",
          "data": {
            "text/html": [
              "<div>\n",
              "<style scoped>\n",
              "    .dataframe tbody tr th:only-of-type {\n",
              "        vertical-align: middle;\n",
              "    }\n",
              "\n",
              "    .dataframe tbody tr th {\n",
              "        vertical-align: top;\n",
              "    }\n",
              "\n",
              "    .dataframe thead th {\n",
              "        text-align: right;\n",
              "    }\n",
              "</style>\n",
              "<table border=\"1\" class=\"dataframe\">\n",
              "  <thead>\n",
              "    <tr style=\"text-align: right;\">\n",
              "      <th></th>\n",
              "      <th>kmer</th>\n",
              "      <th>pos1</th>\n",
              "      <th>pos2</th>\n",
              "      <th>corr</th>\n",
              "      <th>leap</th>\n",
              "      <th>00</th>\n",
              "      <th>01</th>\n",
              "      <th>10</th>\n",
              "      <th>11</th>\n",
              "      <th>00_dictionary</th>\n",
              "      <th>01_dictionary</th>\n",
              "      <th>10_dictionary</th>\n",
              "      <th>11_dictionary</th>\n",
              "    </tr>\n",
              "  </thead>\n",
              "  <tbody>\n",
              "  </tbody>\n",
              "</table>\n",
              "</div>"
            ],
            "text/plain": [
              "Empty DataFrame\n",
              "Columns: [kmer, pos1, pos2, corr, leap, 00, 01, 10, 11, 00_dictionary, 01_dictionary, 10_dictionary, 11_dictionary]\n",
              "Index: []"
            ]
          },
          "metadata": {
            "tags": []
          },
          "execution_count": 71
        }
      ]
    },
    {
      "cell_type": "markdown",
      "metadata": {
        "id": "pO0uwh3wQBBS"
      },
      "source": [
        "# Aminoacid enrichment"
      ]
    },
    {
      "cell_type": "code",
      "metadata": {
        "id": "KA-hDo__whmZ"
      },
      "source": [
        "from collections import Counter"
      ],
      "execution_count": 14,
      "outputs": []
    },
    {
      "cell_type": "code",
      "metadata": {
        "id": "lXtPJA4MQ2ND"
      },
      "source": [
        "#function for counting frequency of aminoacids in: 1,2,3,4 - mers and all together\n",
        "def aa_frequency(df_list):\n",
        "  res_list = [] #list for counter dictionaries\n",
        "\n",
        "  for d in df_list: #iterate through kmer lists\n",
        "    kmer_list = list(d['kmer']) #take kmer column\n",
        "    #print(kmer_list)\n",
        "    kmer_list = [x for x in kmer_list if str(x) != 'nan']\n",
        "    #kmer_list.remove(NaN)\n",
        "\n",
        "    kmer_string = ''.join(kmer_list) #concatenate into one string\n",
        "    #print(kmer_string)\n",
        "    res = Counter(kmer_string) #count aminoacid frequencies\n",
        "    res_list.append(res)\n",
        "  return res_list"
      ],
      "execution_count": 58,
      "outputs": []
    },
    {
      "cell_type": "code",
      "metadata": {
        "id": "4BqnAgOIy4iI"
      },
      "source": [
        "def plot_dict(res, name):\n",
        "  labels, values = zip(*res.items())\n",
        "\n",
        "  indexes = np.arange(len(labels))\n",
        "  width = 0.8\n",
        "\n",
        "  plt.bar(indexes, values, width)\n",
        "  plt.xticks(indexes + width * 0.1, labels)\n",
        "  plt.show()\n",
        "\n",
        "  plt.savefig(name, dpi = 400)"
      ],
      "execution_count": 62,
      "outputs": []
    },
    {
      "cell_type": "code",
      "metadata": {
        "colab": {
          "base_uri": "https://localhost:8080/",
          "height": 830
        },
        "id": "d_UPb1NDeX01",
        "outputId": "cdd54239-9ebe-4e65-c2bc-984821fce85d"
      },
      "source": [
        "H3N2_ev_res_list = aa_frequency(H3N2_ev_df)\n",
        "\n",
        "for j in range(len(H3N2_ev_res_list)):\n",
        "  res = H3N2_ev_res_list[j]\n",
        "  name = '/content/drive/MyDrive/Translocations/' + str(j) + '.png'\n",
        "  plot_dict(res, name)"
      ],
      "execution_count": 69,
      "outputs": [
        {
          "output_type": "display_data",
          "data": {
            "image/png": "[encoded data removed]",
            "text/plain": [
              "<Figure size 432x288 with 1 Axes>"
            ]
          },
          "metadata": {
            "tags": [],
            "needs_background": "light"
          }
        },
        {
          "output_type": "display_data",
          "data": {
            "image/png": "[encoded data removed]",
            "text/plain": [
              "<Figure size 432x288 with 1 Axes>"
            ]
          },
          "metadata": {
            "tags": [],
            "needs_background": "light"
          }
        },
        {
          "output_type": "error",
          "ename": "ValueError",
          "evalue": "ignored",
          "traceback": [
            "\u001b[0;31m---------------------------------------------------------------------------\u001b[0m",
            "\u001b[0;31mValueError\u001b[0m                                Traceback (most recent call last)",
            "\u001b[0;32m<ipython-input-69-838e7d619132>\u001b[0m in \u001b[0;36m<module>\u001b[0;34m()\u001b[0m\n\u001b[1;32m      4\u001b[0m   \u001b[0mres\u001b[0m \u001b[0;34m=\u001b[0m \u001b[0mH3N2_ev_res_list\u001b[0m\u001b[0;34m[\u001b[0m\u001b[0mj\u001b[0m\u001b[0;34m]\u001b[0m\u001b[0;34m\u001b[0m\u001b[0;34m\u001b[0m\u001b[0m\n\u001b[1;32m      5\u001b[0m   \u001b[0mname\u001b[0m \u001b[0;34m=\u001b[0m \u001b[0;34m'/content/drive/MyDrive/Translocations/'\u001b[0m \u001b[0;34m+\u001b[0m \u001b[0mstr\u001b[0m\u001b[0;34m(\u001b[0m\u001b[0mj\u001b[0m\u001b[0;34m)\u001b[0m \u001b[0;34m+\u001b[0m \u001b[0;34m'.png'\u001b[0m\u001b[0;34m\u001b[0m\u001b[0;34m\u001b[0m\u001b[0m\n\u001b[0;32m----> 6\u001b[0;31m   \u001b[0mplot_dict\u001b[0m\u001b[0;34m(\u001b[0m\u001b[0mres\u001b[0m\u001b[0;34m,\u001b[0m \u001b[0mname\u001b[0m\u001b[0;34m)\u001b[0m\u001b[0;34m\u001b[0m\u001b[0;34m\u001b[0m\u001b[0m\n\u001b[0m",
            "\u001b[0;32m<ipython-input-62-b5714638a302>\u001b[0m in \u001b[0;36mplot_dict\u001b[0;34m(res, name)\u001b[0m\n\u001b[1;32m      1\u001b[0m \u001b[0;32mdef\u001b[0m \u001b[0mplot_dict\u001b[0m\u001b[0;34m(\u001b[0m\u001b[0mres\u001b[0m\u001b[0;34m,\u001b[0m \u001b[0mname\u001b[0m\u001b[0;34m)\u001b[0m\u001b[0;34m:\u001b[0m\u001b[0;34m\u001b[0m\u001b[0;34m\u001b[0m\u001b[0m\n\u001b[0;32m----> 2\u001b[0;31m   \u001b[0mlabels\u001b[0m\u001b[0;34m,\u001b[0m \u001b[0mvalues\u001b[0m \u001b[0;34m=\u001b[0m \u001b[0mzip\u001b[0m\u001b[0;34m(\u001b[0m\u001b[0;34m*\u001b[0m\u001b[0mres\u001b[0m\u001b[0;34m.\u001b[0m\u001b[0mitems\u001b[0m\u001b[0;34m(\u001b[0m\u001b[0;34m)\u001b[0m\u001b[0;34m)\u001b[0m\u001b[0;34m\u001b[0m\u001b[0;34m\u001b[0m\u001b[0m\n\u001b[0m\u001b[1;32m      3\u001b[0m \u001b[0;34m\u001b[0m\u001b[0m\n\u001b[1;32m      4\u001b[0m   \u001b[0mindexes\u001b[0m \u001b[0;34m=\u001b[0m \u001b[0mnp\u001b[0m\u001b[0;34m.\u001b[0m\u001b[0marange\u001b[0m\u001b[0;34m(\u001b[0m\u001b[0mlen\u001b[0m\u001b[0;34m(\u001b[0m\u001b[0mlabels\u001b[0m\u001b[0;34m)\u001b[0m\u001b[0;34m)\u001b[0m\u001b[0;34m\u001b[0m\u001b[0;34m\u001b[0m\u001b[0m\n\u001b[1;32m      5\u001b[0m   \u001b[0mwidth\u001b[0m \u001b[0;34m=\u001b[0m \u001b[0;36m0.8\u001b[0m\u001b[0;34m\u001b[0m\u001b[0;34m\u001b[0m\u001b[0m\n",
            "\u001b[0;31mValueError\u001b[0m: not enough values to unpack (expected 2, got 0)"
          ]
        },
        {
          "output_type": "display_data",
          "data": {
            "text/plain": [
              "<Figure size 432x288 with 0 Axes>"
            ]
          },
          "metadata": {
            "tags": []
          }
        }
      ]
    },
    {
      "cell_type": "code",
      "metadata": {
        "colab": {
          "base_uri": "https://localhost:8080/",
          "height": 265
        },
        "id": "kitnZlmCzAP0",
        "outputId": "662fff08-3822-483a-c0a7-b44b22a814f6"
      },
      "source": [
        "labels, values = zip(*res.items())\n",
        "\n",
        "indexes = np.arange(len(labels))\n",
        "width = 0.5\n",
        "\n",
        "plt.bar(indexes, values, width)\n",
        "plt.xticks(indexes + width * 2, labels)\n",
        "plt.show()"
      ],
      "execution_count": 25,
      "outputs": [
        {
          "output_type": "display_data",
          "data": {
            "image/png": "[encoded data removed]",
            "text/plain": [
              "<Figure size 432x288 with 1 Axes>"
            ]
          },
          "metadata": {
            "tags": [],
            "needs_background": "light"
          }
        }
      ]
    }
  ]
}