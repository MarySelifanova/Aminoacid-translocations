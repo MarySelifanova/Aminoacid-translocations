{
  "nbformat": 4,
  "nbformat_minor": 0,
  "metadata": {
    "colab": {
      "name": "130321_add_dictionaries.ipynb",
      "provenance": [],
      "collapsed_sections": [],
      "authorship_tag": "ABX9TyN7Ew2W41LCMb1v7ik7K2GT",
      "include_colab_link": true
    },
    "kernelspec": {
      "name": "python3",
      "display_name": "Python 3"
    }
  },
  "cells": [
    {
      "cell_type": "markdown",
      "metadata": {
        "id": "view-in-github",
        "colab_type": "text"
      },
      "source": [
        "<a href=\"https://colab.research.google.com/github/MarySelifanova/Aminoacid-translocations/blob/main/130321_add_dictionaries.ipynb\" target=\"_parent\"><img src=\"https://colab.research.google.com/assets/colab-badge.svg\" alt=\"Open In Colab\"/></a>"
      ]
    },
    {
      "cell_type": "markdown",
      "metadata": {
        "id": "uffWjiIZmxfT"
      },
      "source": [
        "# Add dictionaries for all states"
      ]
    },
    {
      "cell_type": "code",
      "metadata": {
        "colab": {
          "base_uri": "https://localhost:8080/"
        },
        "id": "APRoJKrSmSCF",
        "outputId": "13705ee5-a8d5-43cb-e854-d9d2410163b5"
      },
      "source": [
        "from google.colab import drive\n",
        "drive.mount('/content/drive')"
      ],
      "execution_count": 1,
      "outputs": [
        {
          "output_type": "stream",
          "text": [
            "Mounted at /content/drive\n"
          ],
          "name": "stdout"
        }
      ]
    },
    {
      "cell_type": "markdown",
      "metadata": {
        "id": "oiafGd1HnQ73"
      },
      "source": [
        "### **Install and import modules**"
      ]
    },
    {
      "cell_type": "code",
      "metadata": {
        "id": "SQKYKHremvIR"
      },
      "source": [
        "!pip install bio\n",
        "!pip install XlsxWriter\n",
        "from Bio import SeqIO\n",
        "from itertools import combinations\n",
        "import numpy as np\n",
        "import re\n",
        "import pandas as pd\n",
        "import xlsxwriter"
      ],
      "execution_count": null,
      "outputs": []
    },
    {
      "cell_type": "markdown",
      "metadata": {
        "id": "Zuvjy0OOnlO8"
      },
      "source": [
        "**Load dataframes from tables**"
      ]
    },
    {
      "cell_type": "code",
      "metadata": {
        "id": "_J3hZG2Sv0Kq"
      },
      "source": [
        "#open the table you want to change\n",
        "xls = pd.ExcelFile('/content/drive/MyDrive/Translocations/H1N1_H3N2.1557.AA.aligned.1str_pdb_multiple.xlsx')\n",
        "df1 = pd.read_excel(xls, 'len=1')\n",
        "df2 = pd.read_excel(xls, 'len=2')\n",
        "df3 = pd.read_excel(xls, 'len=3')\n",
        "df4 = pd.read_excel(xls, 'len=4')"
      ],
      "execution_count": 16,
      "outputs": []
    },
    {
      "cell_type": "code",
      "metadata": {
        "id": "OOPbZhjfNo4O"
      },
      "source": [
        "df_list = [df1, df2, df3, df4]"
      ],
      "execution_count": 17,
      "outputs": []
    },
    {
      "cell_type": "code",
      "metadata": {
        "id": "x-SHpCu7wn4h"
      },
      "source": [
        "def add_dictionaries(file, k, df, state): #file – alignment, k – length of kmer, df – table to change, state – '00'/'11'/'01'/'10'\n",
        "\n",
        "  d_state_list = [] #create an empty list of state dictionaries to add into our dataframe\n",
        "\n",
        "  for index1, row1 in df.iterrows(): #iterate through correlating pairs in dataframe\n",
        "      d_state = {} #create an empty dictionary for the pair we're lookinng at \n",
        "\n",
        "      if int(row1[state]) != 0:\n",
        "\n",
        "        p1 = int(row1['pos1'])\n",
        "        p2 = int(row1['pos2'])\n",
        "        kmer = row1['kmer']\n",
        "\n",
        "        with open(file, \"rU\") as handle:  \n",
        "          for record in SeqIO.parse(handle, \"fasta\"): #iterating through sequences in the alignment file\n",
        "            test_str = str(record.seq) #test_str – one sequence; res – list of kmers of particular length k\n",
        "\n",
        "            pos1_kmer = test_str[p1-1:p1+k-1] #find \"translocation\" kmer-1 of this pair i a particular sequence of the alignment\n",
        "            pos2_kmer = test_str[p2-1:p2+k-1] #find \"translocation\" kmer-2 of this pair i a particular sequence of the alignment\n",
        "            pair = pos1_kmer + '_' + pos2_kmer #form a pair \n",
        "\n",
        "            #undate state dictionary for currennt tarnnslocation pair with current sequece state\n",
        "\n",
        "            if state == '00': \n",
        "              if pos1_kmer != kmer and pos2_kmer != kmer: #check '00' condition \n",
        "\n",
        "                if pair in d_state.keys():\n",
        "                  d_state[pair] += 1\n",
        "                else:\n",
        "                  d_state[pair] = 1  \n",
        "\n",
        "            elif state == '11':\n",
        "              if pos1_kmer == kmer and pos2_kmer == kmer: #check '11' condition\n",
        "\n",
        "                if pair in d_state.keys():\n",
        "                  d_state[pair] +=1\n",
        "                else:\n",
        "                  d_state[pair] = 1\n",
        "\n",
        "            elif state == '01':\n",
        "              if pos1_kmer != kmer and pos2_kmer == kmer: #check '01' condition\n",
        "\n",
        "                if pair in d_state.keys():\n",
        "                  d_state[pair] +=1\n",
        "                else:\n",
        "                  d_state[pair] = 1\n",
        "\n",
        "            elif state == '10':\n",
        "              if pos1_kmer == kmer and pos2_kmer != kmer: #check '10' condition\n",
        "\n",
        "                if pair in d_state.keys():\n",
        "                  d_state[pair] +=1\n",
        "                else:\n",
        "                  d_state[pair] = 1\n",
        "        \n",
        "\n",
        "      d_state_list.append(d_state) #add pair dictionary to the list of state dictionaries \n",
        "\n",
        "  col_name = state + '_dictionary' #create column name\n",
        "  df[col_name] = d_state_list #add column with dictionaries on particular state\n",
        "  return df"
      ],
      "execution_count": 18,
      "outputs": []
    },
    {
      "cell_type": "code",
      "metadata": {
        "colab": {
          "base_uri": "https://localhost:8080/"
        },
        "id": "QqehcpWuhMkS",
        "outputId": "1df701b6-e5e5-4c34-9c57-18020cc037f3"
      },
      "source": [
        "#run add_dictionaries finction for all tables and states\n",
        "\n",
        "file = '/content/drive/MyDrive/Translocations/H1N1_H3N2.1557.AA.aligned.1str.fasta'\n",
        "df_list_updated = [] #create an empty list for new dataframes\n",
        "\n",
        "for i in range(len(df_list)):\n",
        "  d = df_list[i]\n",
        "  k = i + 1\n",
        "\n",
        "  d_new1 = add_dictionaries(file, k, d, '00')\n",
        "  d_new2 = add_dictionaries(file, k, d_new1, '01')\n",
        "  d_new3 = add_dictionaries(file, k, d_new2, '10')\n",
        "  d_new4 = add_dictionaries(file, k, d_new3, '11')\n",
        "\n",
        "  df_list_updated.append(d_new4)"
      ],
      "execution_count": 19,
      "outputs": [
        {
          "output_type": "stream",
          "text": [
            "/usr/local/lib/python3.7/dist-packages/ipykernel_launcher.py:14: DeprecationWarning: 'U' mode is deprecated\n",
            "  \n"
          ],
          "name": "stderr"
        }
      ]
    },
    {
      "cell_type": "code",
      "metadata": {
        "id": "R1JaAHU9jjTH"
      },
      "source": [
        "df_list_updated[3]"
      ],
      "execution_count": null,
      "outputs": []
    },
    {
      "cell_type": "markdown",
      "metadata": {
        "id": "tvWYE4MOjVER"
      },
      "source": [
        "## **Save tables**"
      ]
    },
    {
      "cell_type": "code",
      "metadata": {
        "id": "x54nu_fCdvwl"
      },
      "source": [
        "outfile = '/content/drive/MyDrive/Translocations/H1N1_H3N2_pdb_multiple_dictionaries.xlsx'\n",
        "# Create a Pandas Excel writer using XlsxWriter as the engine\n",
        "writer = pd.ExcelWriter(outfile, engine='xlsxwriter')\n",
        "\n",
        "# Write each dataframe to a different worksheet\n",
        "df_list_updated[0].to_excel(writer, sheet_name='len=1')\n",
        "df_list_updated[1].to_excel(writer, sheet_name='len=2')\n",
        "df_list_updated[2].to_excel(writer, sheet_name='len=3')\n",
        "df_list_updated[3].to_excel(writer, sheet_name='len=4')\n",
        "\n",
        "# Close the Pandas Excel writer and output the Excel file\n",
        "writer.save()"
      ],
      "execution_count": 22,
      "outputs": []
    }
  ]
}