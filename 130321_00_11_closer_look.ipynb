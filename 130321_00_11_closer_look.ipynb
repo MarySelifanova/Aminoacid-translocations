{
  "nbformat": 4,
  "nbformat_minor": 0,
  "metadata": {
    "colab": {
      "name": "130321_00_11: closer look.ipynb",
      "provenance": [],
      "collapsed_sections": [],
      "authorship_tag": "ABX9TyNLcqQgPMKdTquXSiYaK4I1",
      "include_colab_link": true
    },
    "kernelspec": {
      "name": "python3",
      "display_name": "Python 3"
    }
  },
  "cells": [
    {
      "cell_type": "markdown",
      "metadata": {
        "id": "view-in-github",
        "colab_type": "text"
      },
      "source": [
        "<a href=\"https://colab.research.google.com/github/MarySelifanova/Aminoacid-translocations/blob/main/130321_00_11_closer_look.ipynb\" target=\"_parent\"><img src=\"https://colab.research.google.com/assets/colab-badge.svg\" alt=\"Open In Colab\"/></a>"
      ]
    },
    {
      "cell_type": "markdown",
      "metadata": {
        "id": "uffWjiIZmxfT"
      },
      "source": [
        "# Add dictionaries to 00 and 11"
      ]
    },
    {
      "cell_type": "code",
      "metadata": {
        "colab": {
          "base_uri": "https://localhost:8080/"
        },
        "id": "APRoJKrSmSCF",
        "outputId": "ee48f904-59fb-4139-a061-8017f621a8c6"
      },
      "source": [
        "from google.colab import drive\n",
        "drive.mount('/content/drive')"
      ],
      "execution_count": 1,
      "outputs": [
        {
          "output_type": "stream",
          "text": [
            "Mounted at /content/drive\n"
          ],
          "name": "stdout"
        }
      ]
    },
    {
      "cell_type": "markdown",
      "metadata": {
        "id": "oiafGd1HnQ73"
      },
      "source": [
        "### **Install and import modules**"
      ]
    },
    {
      "cell_type": "code",
      "metadata": {
        "id": "SQKYKHremvIR"
      },
      "source": [
        "!pip install bio\n",
        "!pip install XlsxWriter\n",
        "from Bio import SeqIO\n",
        "from itertools import combinations\n",
        "import numpy as np\n",
        "import re\n",
        "import pandas as pd\n",
        "import xlsxwriter"
      ],
      "execution_count": null,
      "outputs": []
    },
    {
      "cell_type": "markdown",
      "metadata": {
        "id": "Zuvjy0OOnlO8"
      },
      "source": [
        "**Load dataframes from tables**"
      ]
    },
    {
      "cell_type": "code",
      "metadata": {
        "id": "_J3hZG2Sv0Kq"
      },
      "source": [
        "xls = pd.ExcelFile('/content/drive/MyDrive/Translocations/H1N1_H3N2.1557.AA.aligned.1str_tuned.xlsx')\n",
        "df1 = pd.read_excel(xls, 'len=1')\n",
        "df2 = pd.read_excel(xls, 'len=2')\n",
        "df3 = pd.read_excel(xls, 'len=3')\n",
        "df4 = pd.read_excel(xls, 'len=4')"
      ],
      "execution_count": 31,
      "outputs": []
    },
    {
      "cell_type": "code",
      "metadata": {
        "colab": {
          "base_uri": "https://localhost:8080/",
          "height": 142
        },
        "id": "OOPbZhjfNo4O",
        "outputId": "37041894-d993-4ea9-c891-23ccf66b0fc9"
      },
      "source": [
        "df4"
      ],
      "execution_count": 32,
      "outputs": [
        {
          "output_type": "execute_result",
          "data": {
            "text/html": [
              "<div>\n",
              "<style scoped>\n",
              "    .dataframe tbody tr th:only-of-type {\n",
              "        vertical-align: middle;\n",
              "    }\n",
              "\n",
              "    .dataframe tbody tr th {\n",
              "        vertical-align: top;\n",
              "    }\n",
              "\n",
              "    .dataframe thead th {\n",
              "        text-align: right;\n",
              "    }\n",
              "</style>\n",
              "<table border=\"1\" class=\"dataframe\">\n",
              "  <thead>\n",
              "    <tr style=\"text-align: right;\">\n",
              "      <th></th>\n",
              "      <th>kmer</th>\n",
              "      <th>pos1</th>\n",
              "      <th>pos2</th>\n",
              "      <th>corr</th>\n",
              "      <th>leap</th>\n",
              "      <th>00</th>\n",
              "      <th>01</th>\n",
              "      <th>10</th>\n",
              "      <th>11</th>\n",
              "    </tr>\n",
              "  </thead>\n",
              "  <tbody>\n",
              "    <tr>\n",
              "      <th>0</th>\n",
              "      <td>NGKL</td>\n",
              "      <td>65</td>\n",
              "      <td>407</td>\n",
              "      <td>-0.992322</td>\n",
              "      <td>342</td>\n",
              "      <td>12</td>\n",
              "      <td>1552</td>\n",
              "      <td>1550</td>\n",
              "      <td>0</td>\n",
              "    </tr>\n",
              "    <tr>\n",
              "      <th>1</th>\n",
              "      <td>KLNR</td>\n",
              "      <td>409</td>\n",
              "      <td>525</td>\n",
              "      <td>-0.874857</td>\n",
              "      <td>116</td>\n",
              "      <td>207</td>\n",
              "      <td>1354</td>\n",
              "      <td>1553</td>\n",
              "      <td>0</td>\n",
              "    </tr>\n",
              "    <tr>\n",
              "      <th>2</th>\n",
              "      <td>VASS</td>\n",
              "      <td>135</td>\n",
              "      <td>551</td>\n",
              "      <td>-0.978399</td>\n",
              "      <td>416</td>\n",
              "      <td>34</td>\n",
              "      <td>1546</td>\n",
              "      <td>1534</td>\n",
              "      <td>0</td>\n",
              "    </tr>\n",
              "  </tbody>\n",
              "</table>\n",
              "</div>"
            ],
            "text/plain": [
              "   kmer  pos1  pos2      corr  leap   00    01    10  11\n",
              "0  NGKL    65   407 -0.992322   342   12  1552  1550   0\n",
              "1  KLNR   409   525 -0.874857   116  207  1354  1553   0\n",
              "2  VASS   135   551 -0.978399   416   34  1546  1534   0"
            ]
          },
          "metadata": {
            "tags": []
          },
          "execution_count": 32
        }
      ]
    },
    {
      "cell_type": "code",
      "metadata": {
        "id": "x-SHpCu7wn4h"
      },
      "source": [
        "def add_dictionaries(file, k, df):\n",
        "\n",
        "  d00_list = []\n",
        "  d11_list = []\n",
        "\n",
        "  for index1, row1 in df.iterrows():\n",
        "\n",
        "      d00 = {}\n",
        "      d11 = {} \n",
        "\n",
        "      if int(row1['00']) != 0 or int(row1['11']) != 0:\n",
        "\n",
        "        p1 = int(row1['pos1'])\n",
        "        p2 = int(row1['pos2'])\n",
        "        kmer = row1['kmer']\n",
        "\n",
        "        with open(file, \"rU\") as handle:  \n",
        "          for record in SeqIO.parse(handle, \"fasta\"): #iterating through sequences in the alignment file\n",
        "            test_str = str(record.seq) #test_str – one sequence; res – list of kmers of particular length k\n",
        "\n",
        "            pos1_kmer = test_str[p1-1:p1+k-1]\n",
        "            pos2_kmer = test_str[p2-1:p2+k-1]\n",
        "            pair = pos1_kmer + '_' + pos2_kmer\n",
        "            \n",
        "            if pos1_kmer != kmer and pos2_kmer != kmer:   \n",
        "            \n",
        "              if pair in d00.keys():\n",
        "                d00[pair] +=1\n",
        "              else:\n",
        "                d00[pair] = 1    \n",
        "\n",
        "            elif pos1_kmer == kmer and pos2_kmer == kmer:\n",
        "\n",
        "              if pair in d11.keys():\n",
        "                d11[pair] +=1\n",
        "              else:\n",
        "                d11[pair] = 1\n",
        "\n",
        "      d00_list.append(d00)\n",
        "      d11_list.append(d11)\n",
        "\n",
        "  df['00_dict'] = d00_list\n",
        "  df['11_dict'] = d11_list"
      ],
      "execution_count": 33,
      "outputs": []
    },
    {
      "cell_type": "code",
      "metadata": {
        "id": "boUY0Z9NwohL",
        "colab": {
          "base_uri": "https://localhost:8080/"
        },
        "outputId": "74a536f3-4413-459f-bee1-60a5cc765afd"
      },
      "source": [
        "file = '/content/drive/MyDrive/Translocations/H1N1_H3N2.1557.AA.aligned.1str.fasta'\n",
        "k = 1\n",
        "df = df1\n",
        "\n",
        "add_dictionaries(file, k, df)"
      ],
      "execution_count": 40,
      "outputs": [
        {
          "output_type": "stream",
          "text": [
            "/usr/local/lib/python3.7/dist-packages/ipykernel_launcher.py:17: DeprecationWarning: 'U' mode is deprecated\n"
          ],
          "name": "stderr"
        }
      ]
    },
    {
      "cell_type": "code",
      "metadata": {
        "colab": {
          "base_uri": "https://localhost:8080/",
          "height": 419
        },
        "id": "cESTyqp3RuCs",
        "outputId": "d225aa11-7005-4f00-9f27-a5206116f35d"
      },
      "source": [
        "df1"
      ],
      "execution_count": 41,
      "outputs": [
        {
          "output_type": "execute_result",
          "data": {
            "text/html": [
              "<div>\n",
              "<style scoped>\n",
              "    .dataframe tbody tr th:only-of-type {\n",
              "        vertical-align: middle;\n",
              "    }\n",
              "\n",
              "    .dataframe tbody tr th {\n",
              "        vertical-align: top;\n",
              "    }\n",
              "\n",
              "    .dataframe thead th {\n",
              "        text-align: right;\n",
              "    }\n",
              "</style>\n",
              "<table border=\"1\" class=\"dataframe\">\n",
              "  <thead>\n",
              "    <tr style=\"text-align: right;\">\n",
              "      <th></th>\n",
              "      <th>kmer</th>\n",
              "      <th>pos1</th>\n",
              "      <th>pos2</th>\n",
              "      <th>corr</th>\n",
              "      <th>leap</th>\n",
              "      <th>00</th>\n",
              "      <th>01</th>\n",
              "      <th>10</th>\n",
              "      <th>11</th>\n",
              "      <th>00_dict</th>\n",
              "      <th>11_dict</th>\n",
              "    </tr>\n",
              "  </thead>\n",
              "  <tbody>\n",
              "    <tr>\n",
              "      <th>0</th>\n",
              "      <td>K</td>\n",
              "      <td>18</td>\n",
              "      <td>49</td>\n",
              "      <td>-0.978398</td>\n",
              "      <td>31</td>\n",
              "      <td>34</td>\n",
              "      <td>1551</td>\n",
              "      <td>1529</td>\n",
              "      <td>0</td>\n",
              "      <td>{'-_R': 3, 'D_D': 8, 'R_D': 6, 'E_D': 10, 'N_D...</td>\n",
              "      <td>{}</td>\n",
              "    </tr>\n",
              "    <tr>\n",
              "      <th>1</th>\n",
              "      <td>K</td>\n",
              "      <td>18</td>\n",
              "      <td>67</td>\n",
              "      <td>-0.976941</td>\n",
              "      <td>49</td>\n",
              "      <td>27</td>\n",
              "      <td>1558</td>\n",
              "      <td>1520</td>\n",
              "      <td>9</td>\n",
              "      <td>{'-_R': 4, 'R_E': 6, 'E_E': 10, 'N_E': 5, 'Q_E...</td>\n",
              "      <td>{'K_K': 9}</td>\n",
              "    </tr>\n",
              "    <tr>\n",
              "      <th>2</th>\n",
              "      <td>K</td>\n",
              "      <td>18</td>\n",
              "      <td>72</td>\n",
              "      <td>-0.972758</td>\n",
              "      <td>54</td>\n",
              "      <td>43</td>\n",
              "      <td>1542</td>\n",
              "      <td>1529</td>\n",
              "      <td>0</td>\n",
              "      <td>{'-_R': 3, '-_G': 5, '-_E': 1, '-_N': 3, 'D_-'...</td>\n",
              "      <td>{}</td>\n",
              "    </tr>\n",
              "    <tr>\n",
              "      <th>3</th>\n",
              "      <td>K</td>\n",
              "      <td>18</td>\n",
              "      <td>103</td>\n",
              "      <td>-0.942600</td>\n",
              "      <td>85</td>\n",
              "      <td>92</td>\n",
              "      <td>1493</td>\n",
              "      <td>1529</td>\n",
              "      <td>0</td>\n",
              "      <td>{'-_R': 17, '-_A': 15, '-_V': 14, '-_N': 9, '-...</td>\n",
              "      <td>{}</td>\n",
              "    </tr>\n",
              "    <tr>\n",
              "      <th>4</th>\n",
              "      <td>K</td>\n",
              "      <td>18</td>\n",
              "      <td>149</td>\n",
              "      <td>-0.977691</td>\n",
              "      <td>131</td>\n",
              "      <td>32</td>\n",
              "      <td>1553</td>\n",
              "      <td>1526</td>\n",
              "      <td>3</td>\n",
              "      <td>{'-_Q': 1, 'D_T': 6, 'R_N': 6, 'E_N': 10, 'N_N...</td>\n",
              "      <td>{'K_K': 3}</td>\n",
              "    </tr>\n",
              "    <tr>\n",
              "      <th>...</th>\n",
              "      <td>...</td>\n",
              "      <td>...</td>\n",
              "      <td>...</td>\n",
              "      <td>...</td>\n",
              "      <td>...</td>\n",
              "      <td>...</td>\n",
              "      <td>...</td>\n",
              "      <td>...</td>\n",
              "      <td>...</td>\n",
              "      <td>...</td>\n",
              "      <td>...</td>\n",
              "    </tr>\n",
              "    <tr>\n",
              "      <th>131</th>\n",
              "      <td>Q</td>\n",
              "      <td>134</td>\n",
              "      <td>436</td>\n",
              "      <td>-0.996794</td>\n",
              "      <td>302</td>\n",
              "      <td>5</td>\n",
              "      <td>1560</td>\n",
              "      <td>1549</td>\n",
              "      <td>0</td>\n",
              "      <td>{'H_E': 2, 'R_E': 1, 'X_E': 2}</td>\n",
              "      <td>{}</td>\n",
              "    </tr>\n",
              "    <tr>\n",
              "      <th>132</th>\n",
              "      <td>Q</td>\n",
              "      <td>134</td>\n",
              "      <td>463</td>\n",
              "      <td>-0.995514</td>\n",
              "      <td>329</td>\n",
              "      <td>7</td>\n",
              "      <td>1558</td>\n",
              "      <td>1549</td>\n",
              "      <td>0</td>\n",
              "      <td>{'H_E': 2, 'R_E': 1, 'X_E': 2, 'L_X': 1, 'L_H'...</td>\n",
              "      <td>{}</td>\n",
              "    </tr>\n",
              "    <tr>\n",
              "      <th>133</th>\n",
              "      <td>Q</td>\n",
              "      <td>134</td>\n",
              "      <td>530</td>\n",
              "      <td>-0.991038</td>\n",
              "      <td>396</td>\n",
              "      <td>13</td>\n",
              "      <td>1552</td>\n",
              "      <td>1548</td>\n",
              "      <td>1</td>\n",
              "      <td>{'H_K': 2, 'R_K': 1, 'X_K': 2, 'L_H': 7, 'L_K'...</td>\n",
              "      <td>{'Q_Q': 1}</td>\n",
              "    </tr>\n",
              "    <tr>\n",
              "      <th>134</th>\n",
              "      <td>Q</td>\n",
              "      <td>134</td>\n",
              "      <td>570</td>\n",
              "      <td>-0.994236</td>\n",
              "      <td>436</td>\n",
              "      <td>9</td>\n",
              "      <td>1556</td>\n",
              "      <td>1549</td>\n",
              "      <td>0</td>\n",
              "      <td>{'H_S': 2, 'R_S': 1, 'X_S': 2, 'L_K': 2, 'L_L'...</td>\n",
              "      <td>{}</td>\n",
              "    </tr>\n",
              "    <tr>\n",
              "      <th>135</th>\n",
              "      <td>S</td>\n",
              "      <td>99</td>\n",
              "      <td>164</td>\n",
              "      <td>-0.841104</td>\n",
              "      <td>65</td>\n",
              "      <td>21</td>\n",
              "      <td>2931</td>\n",
              "      <td>135</td>\n",
              "      <td>27</td>\n",
              "      <td>{'P_T': 10, 'L_T': 10, 'L_X': 1}</td>\n",
              "      <td>{'S_S': 27}</td>\n",
              "    </tr>\n",
              "  </tbody>\n",
              "</table>\n",
              "<p>136 rows × 11 columns</p>\n",
              "</div>"
            ],
            "text/plain": [
              "    kmer  pos1  ...                                            00_dict      11_dict\n",
              "0      K    18  ...  {'-_R': 3, 'D_D': 8, 'R_D': 6, 'E_D': 10, 'N_D...           {}\n",
              "1      K    18  ...  {'-_R': 4, 'R_E': 6, 'E_E': 10, 'N_E': 5, 'Q_E...   {'K_K': 9}\n",
              "2      K    18  ...  {'-_R': 3, '-_G': 5, '-_E': 1, '-_N': 3, 'D_-'...           {}\n",
              "3      K    18  ...  {'-_R': 17, '-_A': 15, '-_V': 14, '-_N': 9, '-...           {}\n",
              "4      K    18  ...  {'-_Q': 1, 'D_T': 6, 'R_N': 6, 'E_N': 10, 'N_N...   {'K_K': 3}\n",
              "..   ...   ...  ...                                                ...          ...\n",
              "131    Q   134  ...                     {'H_E': 2, 'R_E': 1, 'X_E': 2}           {}\n",
              "132    Q   134  ...  {'H_E': 2, 'R_E': 1, 'X_E': 2, 'L_X': 1, 'L_H'...           {}\n",
              "133    Q   134  ...  {'H_K': 2, 'R_K': 1, 'X_K': 2, 'L_H': 7, 'L_K'...   {'Q_Q': 1}\n",
              "134    Q   134  ...  {'H_S': 2, 'R_S': 1, 'X_S': 2, 'L_K': 2, 'L_L'...           {}\n",
              "135    S    99  ...                   {'P_T': 10, 'L_T': 10, 'L_X': 1}  {'S_S': 27}\n",
              "\n",
              "[136 rows x 11 columns]"
            ]
          },
          "metadata": {
            "tags": []
          },
          "execution_count": 41
        }
      ]
    },
    {
      "cell_type": "code",
      "metadata": {
        "id": "x54nu_fCdvwl"
      },
      "source": [
        "outfile = '/content/drive/MyDrive/Translocations/H1N1_H3N2.1557.AA.aligned.1str_dictionary.xlsx'\n",
        "# Create a Pandas Excel writer using XlsxWriter as the engine\n",
        "writer = pd.ExcelWriter(outfile, engine='xlsxwriter')\n",
        "\n",
        "# Write each dataframe to a different worksheet\n",
        "df1.to_excel(writer, sheet_name='len=1')\n",
        "df2.to_excel(writer, sheet_name='len=2')\n",
        "df3.to_excel(writer, sheet_name='len=3')\n",
        "df4.to_excel(writer, sheet_name='len=4')\n",
        "\n",
        "# Close the Pandas Excel writer and output the Excel file\n",
        "writer.save()"
      ],
      "execution_count": 42,
      "outputs": []
    },
    {
      "cell_type": "markdown",
      "metadata": {
        "id": "GLBEmz6siVvH"
      },
      "source": [
        "# Add PDB distance"
      ]
    },
    {
      "cell_type": "code",
      "metadata": {
        "id": "QHA2Ru9wiVBy"
      },
      "source": [
        ""
      ],
      "execution_count": null,
      "outputs": []
    }
  ]
}